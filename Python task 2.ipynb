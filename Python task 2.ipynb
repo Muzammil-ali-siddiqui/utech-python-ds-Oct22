{
 "cells": [
  {
   "cell_type": "code",
   "execution_count": 4,
   "id": "b005a08c",
   "metadata": {},
   "outputs": [
    {
     "name": "stdout",
     "output_type": "stream",
     "text": [
      "Enter numeric input123456789\n",
      "Enter string input12345678910\n",
      "<class 'str'>\n",
      "<class 'int'>\n",
      "<class 'float'>\n"
     ]
    }
   ],
   "source": [
    "numeric_input = input(\"Enter numeric input\")\n",
    "string_input = input(\"Enter string input\")\n",
    "\n",
    "srting_outcome = str(numeric_input) #Converts numeric_input to string_outcome\n",
    "integer_outcome = int(string_input) #Converts string_input to integer_outcome\n",
    "float_outcome = float(string_input) #Converts string_input to integer_outcome\n",
    "print(type(srting_outcome))\n",
    "print(type(integer_outcome))\n",
    "print(type(float_outcome))"
   ]
  },
  {
   "cell_type": "code",
   "execution_count": 6,
   "id": "1347b52f",
   "metadata": {},
   "outputs": [
    {
     "name": "stdout",
     "output_type": "stream",
     "text": [
      "The type of the date is now <class 'datetime.datetime'>\n",
      "The date is 2021-10-18 01:55:37\n"
     ]
    }
   ],
   "source": [
    "from datetime import datetime\n",
    "\n",
    "date_time_str = '18/10/22 01:55:37'\n",
    "\n",
    "date_time_obj = datetime.strptime(date_time_str, '%d/%m/%y %H:%M:%S')\n",
    "\n",
    "\n",
    "print (\"The type of the date is now\",  type(date_time_obj))\n",
    "print (\"The date is\", date_time_obj)\n"
   ]
  },
  {
   "cell_type": "code",
   "execution_count": null,
   "id": "8156df7e",
   "metadata": {},
   "outputs": [],
   "source": []
  }
 ],
 "metadata": {
  "kernelspec": {
   "display_name": "Python 3 (ipykernel)",
   "language": "python",
   "name": "python3"
  },
  "language_info": {
   "codemirror_mode": {
    "name": "ipython",
    "version": 3
   },
   "file_extension": ".py",
   "mimetype": "text/x-python",
   "name": "python",
   "nbconvert_exporter": "python",
   "pygments_lexer": "ipython3",
   "version": "3.10.5"
  }
 },
 "nbformat": 4,
 "nbformat_minor": 5
}
